{
 "cells": [
  {
   "cell_type": "code",
   "execution_count": 1,
   "id": "0808cfca-baa9-472a-b2db-eab932003508",
   "metadata": {},
   "outputs": [],
   "source": [
    "import pandas as pd\n",
    "import numpy as np"
   ]
  },
  {
   "cell_type": "code",
   "execution_count": 2,
   "id": "bc490319-7e3e-4a74-be4b-f09cc3e60159",
   "metadata": {},
   "outputs": [],
   "source": [
    "bat_df = pd.read_csv('final_batting_df.csv')\n",
    "bowl_df = pd.read_csv('final_bowling_df.csv')"
   ]
  },
  {
   "cell_type": "code",
   "execution_count": 12,
   "id": "39b27cb0-21f0-41d3-85fd-811b4f4e4601",
   "metadata": {},
   "outputs": [
    {
     "data": {
      "text/plain": [
       "array(['Jonny Bairstow', 'Dawid Malan', 'Joe Root', 'Harry Brook',\n",
       "       'Moeen Ali', 'Jos Buttler', 'Liam Livingstone', 'Sam Curran',\n",
       "       'Chris Woakes', 'Adil Rashid', 'Mark Wood', 'Reece Topley',\n",
       "       'Ben Stokes', 'David Willey', 'Gus Atkinson'], dtype=object)"
      ]
     },
     "execution_count": 12,
     "metadata": {},
     "output_type": "execute_result"
    }
   ],
   "source": [
    "bat_df[bat_df['Team'] == 'England']['Batsman'].unique()"
   ]
  },
  {
   "cell_type": "code",
   "execution_count": 13,
   "id": "26f93d88-c178-43e6-b032-a7829ae3680d",
   "metadata": {},
   "outputs": [
    {
     "data": {
      "text/plain": [
       "array(['Chris Woakes', 'Reece Topley', 'Sam Curran', 'Adil Rashid',\n",
       "       'Mark Wood', 'Liam Livingstone', 'Joe Root', 'David Willey',\n",
       "       'Gus Atkinson', 'Moeen Ali'], dtype=object)"
      ]
     },
     "execution_count": 13,
     "metadata": {},
     "output_type": "execute_result"
    }
   ],
   "source": [
    "bowl_df[bowl_df['Team'] == 'England']['Bowler'].unique()"
   ]
  },
  {
   "cell_type": "code",
   "execution_count": null,
   "id": "e9923953-0778-4f08-a32b-9acb80ac8188",
   "metadata": {},
   "outputs": [],
   "source": []
  }
 ],
 "metadata": {
  "kernelspec": {
   "display_name": "Python 3 (ipykernel)",
   "language": "python",
   "name": "python3"
  },
  "language_info": {
   "codemirror_mode": {
    "name": "ipython",
    "version": 3
   },
   "file_extension": ".py",
   "mimetype": "text/x-python",
   "name": "python",
   "nbconvert_exporter": "python",
   "pygments_lexer": "ipython3",
   "version": "3.9.0"
  }
 },
 "nbformat": 4,
 "nbformat_minor": 5
}
