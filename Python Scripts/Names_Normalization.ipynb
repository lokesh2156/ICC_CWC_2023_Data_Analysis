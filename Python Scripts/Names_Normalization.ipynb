{
 "cells": [
  {
   "cell_type": "code",
   "execution_count": 1,
   "id": "bdd5d887-0559-4cf6-a2cc-1bd175882332",
   "metadata": {},
   "outputs": [],
   "source": [
    "import pandas as pd"
   ]
  },
  {
   "cell_type": "markdown",
   "id": "c3c4d0dd-4cd4-412e-8be4-494f1609e4a6",
   "metadata": {},
   "source": [
    "## Batsman Names Normalization"
   ]
  },
  {
   "cell_type": "code",
   "execution_count": 2,
   "id": "62eda282-af3c-4e8e-b834-ee57145c6896",
   "metadata": {
    "scrolled": true
   },
   "outputs": [
    {
     "data": {
      "text/html": [
       "<div>\n",
       "<style scoped>\n",
       "    .dataframe tbody tr th:only-of-type {\n",
       "        vertical-align: middle;\n",
       "    }\n",
       "\n",
       "    .dataframe tbody tr th {\n",
       "        vertical-align: top;\n",
       "    }\n",
       "\n",
       "    .dataframe thead th {\n",
       "        text-align: right;\n",
       "    }\n",
       "</style>\n",
       "<table border=\"1\" class=\"dataframe\">\n",
       "  <thead>\n",
       "    <tr style=\"text-align: right;\">\n",
       "      <th></th>\n",
       "      <th>Match_id</th>\n",
       "      <th>Team</th>\n",
       "      <th>Opposite_Team</th>\n",
       "      <th>Innings</th>\n",
       "      <th>Batsman</th>\n",
       "      <th>Dismissal Type</th>\n",
       "      <th>Fielder</th>\n",
       "      <th>Bowler</th>\n",
       "      <th>Runs</th>\n",
       "      <th>Balls</th>\n",
       "      <th>Boundaries</th>\n",
       "      <th>Sixes</th>\n",
       "      <th>StrikeRate</th>\n",
       "    </tr>\n",
       "  </thead>\n",
       "  <tbody>\n",
       "    <tr>\n",
       "      <th>0</th>\n",
       "      <td>1</td>\n",
       "      <td>England</td>\n",
       "      <td>New Zealand</td>\n",
       "      <td>1</td>\n",
       "      <td>Jonny Bairstow</td>\n",
       "      <td>Catch</td>\n",
       "      <td>Daryl Mitchell</td>\n",
       "      <td>Mitchell Santner</td>\n",
       "      <td>33</td>\n",
       "      <td>35</td>\n",
       "      <td>4</td>\n",
       "      <td>1</td>\n",
       "      <td>94.29</td>\n",
       "    </tr>\n",
       "    <tr>\n",
       "      <th>1</th>\n",
       "      <td>1</td>\n",
       "      <td>England</td>\n",
       "      <td>New Zealand</td>\n",
       "      <td>1</td>\n",
       "      <td>Dawid Malan</td>\n",
       "      <td>Catch</td>\n",
       "      <td>Latham</td>\n",
       "      <td>Matt Henry</td>\n",
       "      <td>14</td>\n",
       "      <td>24</td>\n",
       "      <td>2</td>\n",
       "      <td>0</td>\n",
       "      <td>58.33</td>\n",
       "    </tr>\n",
       "    <tr>\n",
       "      <th>2</th>\n",
       "      <td>1</td>\n",
       "      <td>England</td>\n",
       "      <td>New Zealand</td>\n",
       "      <td>1</td>\n",
       "      <td>Joe Root</td>\n",
       "      <td>Bowled</td>\n",
       "      <td>-</td>\n",
       "      <td>Glenn Phillips</td>\n",
       "      <td>77</td>\n",
       "      <td>86</td>\n",
       "      <td>4</td>\n",
       "      <td>1</td>\n",
       "      <td>89.53</td>\n",
       "    </tr>\n",
       "    <tr>\n",
       "      <th>3</th>\n",
       "      <td>1</td>\n",
       "      <td>England</td>\n",
       "      <td>New Zealand</td>\n",
       "      <td>1</td>\n",
       "      <td>Harry Brook</td>\n",
       "      <td>Catch</td>\n",
       "      <td>Devon Conway</td>\n",
       "      <td>Rachin Ravindra</td>\n",
       "      <td>25</td>\n",
       "      <td>16</td>\n",
       "      <td>4</td>\n",
       "      <td>1</td>\n",
       "      <td>156.25</td>\n",
       "    </tr>\n",
       "    <tr>\n",
       "      <th>4</th>\n",
       "      <td>1</td>\n",
       "      <td>England</td>\n",
       "      <td>New Zealand</td>\n",
       "      <td>1</td>\n",
       "      <td>Moeen Ali</td>\n",
       "      <td>Bowled</td>\n",
       "      <td>-</td>\n",
       "      <td>Glenn Phillips</td>\n",
       "      <td>11</td>\n",
       "      <td>17</td>\n",
       "      <td>1</td>\n",
       "      <td>0</td>\n",
       "      <td>64.71</td>\n",
       "    </tr>\n",
       "  </tbody>\n",
       "</table>\n",
       "</div>"
      ],
      "text/plain": [
       "   Match_id     Team Opposite_Team  Innings         Batsman Dismissal Type  \\\n",
       "0         1  England   New Zealand        1  Jonny Bairstow          Catch   \n",
       "1         1  England   New Zealand        1     Dawid Malan          Catch   \n",
       "2         1  England   New Zealand        1        Joe Root         Bowled   \n",
       "3         1  England   New Zealand        1     Harry Brook          Catch   \n",
       "4         1  England   New Zealand        1       Moeen Ali         Bowled   \n",
       "\n",
       "          Fielder            Bowler  Runs  Balls  Boundaries  Sixes  \\\n",
       "0  Daryl Mitchell  Mitchell Santner    33     35           4      1   \n",
       "1          Latham        Matt Henry    14     24           2      0   \n",
       "2               -    Glenn Phillips    77     86           4      1   \n",
       "3    Devon Conway   Rachin Ravindra    25     16           4      1   \n",
       "4               -    Glenn Phillips    11     17           1      0   \n",
       "\n",
       "   StrikeRate  \n",
       "0       94.29  \n",
       "1       58.33  \n",
       "2       89.53  \n",
       "3      156.25  \n",
       "4       64.71  "
      ]
     },
     "execution_count": 2,
     "metadata": {},
     "output_type": "execute_result"
    }
   ],
   "source": [
    "df = pd.read_csv('final_batting_df.csv')\n",
    "df.head()"
   ]
  },
  {
   "cell_type": "code",
   "execution_count": 28,
   "id": "988175dd-fd55-47c3-adec-54b756f4e6ce",
   "metadata": {},
   "outputs": [],
   "source": [
    "# Normalization of Afghanistan Capitan Name "
   ]
  },
  {
   "cell_type": "code",
   "execution_count": 5,
   "id": "683e8b0f-8952-4b6f-841a-e4ad40a4fff7",
   "metadata": {},
   "outputs": [
    {
     "data": {
      "text/plain": [
       "array(['Rahmanullah Gurbaz', 'Ibrahim Zadran', 'Rahmat Shah',\n",
       "       'Hashmatullah Shahidi (c)', 'Najibullah Zadran', 'Mohammad Nabi',\n",
       "       'Azmatullah Omarzai', 'Rashid Khan', 'Mujeeb Ur Rahman',\n",
       "       'Naveen-ul-Haq', 'Fazalhaq Farooqi', 'Gurbaz', 'Ikram Alikhil',\n",
       "       'Noor Ahmad', 'Hashmatullah Shahidi'], dtype=object)"
      ]
     },
     "execution_count": 5,
     "metadata": {},
     "output_type": "execute_result"
    }
   ],
   "source": [
    "df[df['Team'] == 'Afghanistan']['Batsman'].unique()"
   ]
  },
  {
   "cell_type": "code",
   "execution_count": 15,
   "id": "3837ef30-44fe-4e56-89a7-84a6646f91d8",
   "metadata": {},
   "outputs": [],
   "source": [
    "df['Batsman'].replace({'Hashmatullah Shahidi (c)': 'Hashmatullah Shahidi'},inplace=True)"
   ]
  },
  {
   "cell_type": "code",
   "execution_count": 16,
   "id": "81e6b72b-dc0e-4e7f-a13c-c11eb3e39638",
   "metadata": {},
   "outputs": [
    {
     "data": {
      "text/plain": [
       "array(['Rahmanullah Gurbaz', 'Ibrahim Zadran', 'Rahmat Shah',\n",
       "       'Hashmatullah Shahidi', 'Najibullah Zadran', 'Mohammad Nabi',\n",
       "       'Azmatullah Omarzai', 'Rashid Khan', 'Mujeeb Ur Rahman',\n",
       "       'Naveen-ul-Haq', 'Fazalhaq Farooqi', 'Gurbaz', 'Ikram Alikhil',\n",
       "       'Noor Ahmad'], dtype=object)"
      ]
     },
     "execution_count": 16,
     "metadata": {},
     "output_type": "execute_result"
    }
   ],
   "source": [
    "df[df['Team'] == 'Afghanistan']['Batsman'].unique()"
   ]
  },
  {
   "cell_type": "code",
   "execution_count": 18,
   "id": "223c5ebf-1f10-497f-9189-fd535000b975",
   "metadata": {},
   "outputs": [
    {
     "data": {
      "text/plain": [
       "array(['England', 'Pakistan', 'Afghanistan', 'South Africa', 'Australia',\n",
       "       'New Zealand', 'Sri Lanka', 'Bangladesh', 'Netherlands', 'India'],\n",
       "      dtype=object)"
      ]
     },
     "execution_count": 18,
     "metadata": {},
     "output_type": "execute_result"
    }
   ],
   "source": [
    "df['Team'].unique()"
   ]
  },
  {
   "cell_type": "code",
   "execution_count": 27,
   "id": "1e9a40f5-5482-407c-9a2a-be8b02f58a46",
   "metadata": {},
   "outputs": [
    {
     "data": {
      "text/plain": [
       "array(['Rohit Sharma', 'Shubman Gill', 'Virat Kohli', 'Shreyas Iyer',\n",
       "       'KL Rahul', 'Suryakumar Yadav', 'Ravindra Jadeja',\n",
       "       'Mohammed Shami', 'Jasprit Bumrah', 'Kuldeep Yadav',\n",
       "       'Mohammed Siraj', 'Ishan Kishan', 'Hardik Pandya'], dtype=object)"
      ]
     },
     "execution_count": 27,
     "metadata": {},
     "output_type": "execute_result"
    }
   ],
   "source": [
    "df[df['Team'] == 'India']['Batsman'].unique()"
   ]
  },
  {
   "cell_type": "code",
   "execution_count": 19,
   "id": "91a17a34-0ca8-43e7-85e6-454dd5efbba5",
   "metadata": {},
   "outputs": [
    {
     "data": {
      "text/plain": [
       "array(['Jonny Bairstow', 'Dawid Malan', 'Joe Root', 'Harry Brook',\n",
       "       'Moeen Ali', 'Jos Buttler', 'Liam Livingstone', 'Sam Curran',\n",
       "       'Chris Woakes', 'Adil Rashid', 'Mark Wood', 'Reece Topley',\n",
       "       'Ben Stokes', 'David Willey', 'Gus Atkinson'], dtype=object)"
      ]
     },
     "execution_count": 19,
     "metadata": {},
     "output_type": "execute_result"
    }
   ],
   "source": [
    "df[df['Team'] == 'England']['Batsman'].unique()"
   ]
  },
  {
   "cell_type": "code",
   "execution_count": 20,
   "id": "65398a8b-5bd6-4f6c-a9f4-18eb923726ea",
   "metadata": {},
   "outputs": [
    {
     "data": {
      "text/plain": [
       "array(['Fakhar Zaman', 'Imam-ul-Haq', 'Babar Azam', 'Mohammad Rizwan',\n",
       "       'Saud Shakeel', 'Iftikhar Ahmed', 'Mohammad Nawaz', 'Shadab Khan',\n",
       "       'Hasan Ali', 'Shaheen Afridi', 'Haris Rauf', 'Shafique',\n",
       "       'Mohammad Wasim Jr', 'Abdullah Shafique', 'Usama Mir',\n",
       "       'Agha Salman'], dtype=object)"
      ]
     },
     "execution_count": 20,
     "metadata": {},
     "output_type": "execute_result"
    }
   ],
   "source": [
    "df[df['Team'] == 'Pakistan']['Batsman'].unique()"
   ]
  },
  {
   "cell_type": "code",
   "execution_count": 21,
   "id": "090a1916-8226-43f6-9d59-50b6083fede0",
   "metadata": {},
   "outputs": [
    {
     "data": {
      "text/plain": [
       "array(['Quinton de Kock', 'Temba Bavuma', 'Rassie van der Dussen',\n",
       "       'Aiden Markram', 'Heinrich Klaasen', 'David Miller',\n",
       "       'Marco Jansen', 'Kagiso Rabada', 'Keshav Maharaj',\n",
       "       'Reeza Hendricks', 'Gerald Coetzee', 'Tabraiz Shamsi',\n",
       "       'Lungi Ngidi', 'Andile Phehlukwayo'], dtype=object)"
      ]
     },
     "execution_count": 21,
     "metadata": {},
     "output_type": "execute_result"
    }
   ],
   "source": [
    "df[df['Team'] == 'South Africa']['Batsman'].unique()"
   ]
  },
  {
   "cell_type": "code",
   "execution_count": 22,
   "id": "f82894b5-24f9-48b1-bd67-8b8c1888c2b3",
   "metadata": {},
   "outputs": [
    {
     "data": {
      "text/plain": [
       "array(['David Warner', 'Mitchell Marsh', 'Steven Smith',\n",
       "       'Marnus Labuschagne', 'Glenn Maxwell', 'Alex Carey',\n",
       "       'Cameron Green', 'Pat Cummins', 'Mitchell Starc', 'Adam Zampa',\n",
       "       'Josh Hazlewood', 'Marcus Stoinis', 'Josh Inglis', 'Travis Head'],\n",
       "      dtype=object)"
      ]
     },
     "execution_count": 22,
     "metadata": {},
     "output_type": "execute_result"
    }
   ],
   "source": [
    "df[df['Team'] == 'Australia']['Batsman'].unique()"
   ]
  },
  {
   "cell_type": "code",
   "execution_count": 23,
   "id": "5d7c4208-923e-4e5d-974c-35853792d92b",
   "metadata": {},
   "outputs": [
    {
     "data": {
      "text/plain": [
       "array(['Devon Conway', 'Will Young', 'Rachin Ravindra', 'Daryl Mitchell',\n",
       "       'Tom Latham', 'Glenn Phillips', 'Mark Chapman', 'Mitchell Santner',\n",
       "       'Matt Henry', 'Lockie Ferguson', 'Trent Boult', 'Kane Williamson',\n",
       "       'James Neesham', 'Tim Southee'], dtype=object)"
      ]
     },
     "execution_count": 23,
     "metadata": {},
     "output_type": "execute_result"
    }
   ],
   "source": [
    "df[df['Team'] == 'New Zealand']['Batsman'].unique() "
   ]
  },
  {
   "cell_type": "code",
   "execution_count": 24,
   "id": "934e9f7f-4437-494b-9bbc-4063008435fa",
   "metadata": {},
   "outputs": [
    {
     "data": {
      "text/plain": [
       "array(['Pathum Nissanka', 'Kusal Perera', 'Kusal Mendis',\n",
       "       'Sadeera Samarawickrama', 'Charith Asalanka',\n",
       "       'Dhananjaya de Silva', 'Dasun Shanaka', 'Dunith Wellalage',\n",
       "       'Maheesh Theekshana', 'Matheesha Pathirana', 'Dimuth Karunaratne',\n",
       "       'Lahiru Kumara', 'Dilshan Madushanka', 'Angelo Mathews',\n",
       "       'Dushmantha Chameera', 'Kasun Rajitha', 'Dushan Hemantha'],\n",
       "      dtype=object)"
      ]
     },
     "execution_count": 24,
     "metadata": {},
     "output_type": "execute_result"
    }
   ],
   "source": [
    "df[df['Team'] == 'Sri Lanka']['Batsman'].unique()"
   ]
  },
  {
   "cell_type": "code",
   "execution_count": 25,
   "id": "b0883ed5-f46b-4242-9b8b-368b51c77c3c",
   "metadata": {},
   "outputs": [
    {
     "data": {
      "text/plain": [
       "array(['Litton Das', 'Tanzid Hasan', 'Mehidy Hasan Miraz',\n",
       "       'Najmul Hossain Shanto', 'Shakib Al Hasan', 'Mushfiqur Rahim',\n",
       "       'Towhid Hridoy', 'Mahmudullah', 'Taskin Ahmed',\n",
       "       'Mustafizur Rahman', 'Shoriful Islam', 'Nasum Ahmed',\n",
       "       'Mahedi Hasan', 'Hasan Mahmud', 'Tanzim Hasan Sakib'], dtype=object)"
      ]
     },
     "execution_count": 25,
     "metadata": {},
     "output_type": "execute_result"
    }
   ],
   "source": [
    "df[df['Team'] == 'Bangladesh']['Batsman'].unique()"
   ]
  },
  {
   "cell_type": "code",
   "execution_count": 26,
   "id": "cc2746a2-5c0c-4ae8-ab9c-47c4d55d965b",
   "metadata": {},
   "outputs": [
    {
     "data": {
      "text/plain": [
       "array(['Vikramjit Singh', 'Max ODowd', 'Colin Ackermann', 'Bas de Leede',\n",
       "       'Sybrand Engelbrecht', 'Teja Nidamanuru', 'Scott Edwards',\n",
       "       'Logan van Beek', 'Roelof van der Merwe', 'Aryan Dutt',\n",
       "       'Paul van Meekeren', 'Wesley Barresi', 'Shariz Ahmad',\n",
       "       'Saqib Zulfiqar', 'Ryan Klein'], dtype=object)"
      ]
     },
     "execution_count": 26,
     "metadata": {},
     "output_type": "execute_result"
    }
   ],
   "source": [
    "df[df['Team'] == 'Netherlands']['Batsman'].unique()"
   ]
  },
  {
   "cell_type": "markdown",
   "id": "8c9e8510-bf76-49a5-a858-f96a28fa4ecc",
   "metadata": {},
   "source": [
    "## Bowler Names Normalization"
   ]
  },
  {
   "cell_type": "code",
   "execution_count": 29,
   "id": "59582487-85db-4bd9-8263-2a93801a83dd",
   "metadata": {},
   "outputs": [
    {
     "data": {
      "text/html": [
       "<div>\n",
       "<style scoped>\n",
       "    .dataframe tbody tr th:only-of-type {\n",
       "        vertical-align: middle;\n",
       "    }\n",
       "\n",
       "    .dataframe tbody tr th {\n",
       "        vertical-align: top;\n",
       "    }\n",
       "\n",
       "    .dataframe thead th {\n",
       "        text-align: right;\n",
       "    }\n",
       "</style>\n",
       "<table border=\"1\" class=\"dataframe\">\n",
       "  <thead>\n",
       "    <tr style=\"text-align: right;\">\n",
       "      <th></th>\n",
       "      <th>Match_id</th>\n",
       "      <th>Team</th>\n",
       "      <th>Opposite_Team</th>\n",
       "      <th>Innings</th>\n",
       "      <th>Bowler</th>\n",
       "      <th>Overs</th>\n",
       "      <th>Maidens</th>\n",
       "      <th>Runs</th>\n",
       "      <th>Wickets</th>\n",
       "      <th>No_Balls</th>\n",
       "      <th>Wides</th>\n",
       "      <th>Economy</th>\n",
       "      <th>Bowler_Type</th>\n",
       "    </tr>\n",
       "  </thead>\n",
       "  <tbody>\n",
       "    <tr>\n",
       "      <th>0</th>\n",
       "      <td>1</td>\n",
       "      <td>New Zealand</td>\n",
       "      <td>England</td>\n",
       "      <td>1</td>\n",
       "      <td>Trent Boult</td>\n",
       "      <td>10.0</td>\n",
       "      <td>1</td>\n",
       "      <td>48</td>\n",
       "      <td>1</td>\n",
       "      <td>0</td>\n",
       "      <td>1</td>\n",
       "      <td>4.8</td>\n",
       "      <td>Left-arm Fast</td>\n",
       "    </tr>\n",
       "    <tr>\n",
       "      <th>1</th>\n",
       "      <td>1</td>\n",
       "      <td>New Zealand</td>\n",
       "      <td>England</td>\n",
       "      <td>1</td>\n",
       "      <td>Matt Henry</td>\n",
       "      <td>10.0</td>\n",
       "      <td>1</td>\n",
       "      <td>48</td>\n",
       "      <td>3</td>\n",
       "      <td>0</td>\n",
       "      <td>0</td>\n",
       "      <td>4.8</td>\n",
       "      <td>Right-arm Fast Medium</td>\n",
       "    </tr>\n",
       "    <tr>\n",
       "      <th>2</th>\n",
       "      <td>1</td>\n",
       "      <td>New Zealand</td>\n",
       "      <td>England</td>\n",
       "      <td>1</td>\n",
       "      <td>Mitchell Santner</td>\n",
       "      <td>10.0</td>\n",
       "      <td>0</td>\n",
       "      <td>37</td>\n",
       "      <td>2</td>\n",
       "      <td>0</td>\n",
       "      <td>1</td>\n",
       "      <td>3.7</td>\n",
       "      <td>Left-arm Orthodox Spin</td>\n",
       "    </tr>\n",
       "    <tr>\n",
       "      <th>3</th>\n",
       "      <td>1</td>\n",
       "      <td>New Zealand</td>\n",
       "      <td>England</td>\n",
       "      <td>1</td>\n",
       "      <td>Jimmy Neesham</td>\n",
       "      <td>7.0</td>\n",
       "      <td>0</td>\n",
       "      <td>56</td>\n",
       "      <td>0</td>\n",
       "      <td>0</td>\n",
       "      <td>4</td>\n",
       "      <td>8.0</td>\n",
       "      <td>Right-arm Medium-fast</td>\n",
       "    </tr>\n",
       "    <tr>\n",
       "      <th>4</th>\n",
       "      <td>1</td>\n",
       "      <td>New Zealand</td>\n",
       "      <td>England</td>\n",
       "      <td>1</td>\n",
       "      <td>Rachin Ravindra</td>\n",
       "      <td>10.0</td>\n",
       "      <td>0</td>\n",
       "      <td>76</td>\n",
       "      <td>1</td>\n",
       "      <td>0</td>\n",
       "      <td>0</td>\n",
       "      <td>7.6</td>\n",
       "      <td>Left-arm Orthodox Spin</td>\n",
       "    </tr>\n",
       "  </tbody>\n",
       "</table>\n",
       "</div>"
      ],
      "text/plain": [
       "   Match_id         Team Opposite_Team  Innings            Bowler  Overs  \\\n",
       "0         1  New Zealand       England        1       Trent Boult   10.0   \n",
       "1         1  New Zealand       England        1        Matt Henry   10.0   \n",
       "2         1  New Zealand       England        1  Mitchell Santner   10.0   \n",
       "3         1  New Zealand       England        1     Jimmy Neesham    7.0   \n",
       "4         1  New Zealand       England        1   Rachin Ravindra   10.0   \n",
       "\n",
       "   Maidens  Runs  Wickets  No_Balls  Wides  Economy             Bowler_Type  \n",
       "0        1    48        1         0      1      4.8           Left-arm Fast  \n",
       "1        1    48        3         0      0      4.8   Right-arm Fast Medium  \n",
       "2        0    37        2         0      1      3.7  Left-arm Orthodox Spin  \n",
       "3        0    56        0         0      4      8.0   Right-arm Medium-fast  \n",
       "4        0    76        1         0      0      7.6  Left-arm Orthodox Spin  "
      ]
     },
     "execution_count": 29,
     "metadata": {},
     "output_type": "execute_result"
    }
   ],
   "source": [
    "df2 = pd.read_csv('final_bowling_df.csv')\n",
    "df2.head()"
   ]
  },
  {
   "cell_type": "code",
   "execution_count": 30,
   "id": "0bfe9057-1746-4c53-a72f-52e17df3838b",
   "metadata": {},
   "outputs": [
    {
     "data": {
      "text/plain": [
       "array(['New Zealand', 'Netherlands', 'Bangladesh', 'Sri Lanka', 'India',\n",
       "       'Pakistan', 'Australia', 'England', 'South Africa', 'Afghanistan'],\n",
       "      dtype=object)"
      ]
     },
     "execution_count": 30,
     "metadata": {},
     "output_type": "execute_result"
    }
   ],
   "source": [
    "df2['Team'].unique()"
   ]
  },
  {
   "cell_type": "code",
   "execution_count": 34,
   "id": "2541a496-dfda-433b-82c4-d468a0df762a",
   "metadata": {},
   "outputs": [
    {
     "data": {
      "text/plain": [
       "array(['Trent Boult', 'Matt Henry', 'Mitchell Santner', 'Jimmy Neesham',\n",
       "       'Rachin Ravindra', 'Glenn Phillips', 'Lockie Ferguson',\n",
       "       'Daryl Mitchell', 'Tim Southee', 'Ish Sodhi'], dtype=object)"
      ]
     },
     "execution_count": 34,
     "metadata": {},
     "output_type": "execute_result"
    }
   ],
   "source": [
    "df2[df2['Team'] == 'New Zealand']['Bowler'].unique() # Good"
   ]
  },
  {
   "cell_type": "code",
   "execution_count": 35,
   "id": "bfc01631-26c6-4784-90fa-eda6621681f1",
   "metadata": {},
   "outputs": [
    {
     "data": {
      "text/plain": [
       "array(['Aryan Dutt', 'Logan van Beek', 'Colin Ackermann',\n",
       "       'Paul van Meekeren', 'Bas de Leede', 'Roelof van der Merwe',\n",
       "       'Vikramjit Singh', 'Saqib Zulfiqar', 'Ryan Klein', 'Shariz Ahmad'],\n",
       "      dtype=object)"
      ]
     },
     "execution_count": 35,
     "metadata": {},
     "output_type": "execute_result"
    }
   ],
   "source": [
    "df2[df2['Team'] == 'Netherlands']['Bowler'].unique() # Good"
   ]
  },
  {
   "cell_type": "code",
   "execution_count": 36,
   "id": "2445a26b-d6dd-4b13-98e3-9728ae714655",
   "metadata": {},
   "outputs": [
    {
     "data": {
      "text/plain": [
       "array(['Taskin Ahmed', 'Shoriful Islam', 'Mustafizur Rahman',\n",
       "       'Shakib Al Hasan', 'Mehidy Hasan Miraz', 'Mahmudullah',\n",
       "       'Mahedi Hasan', 'Hasan Mahmud', 'Nasum Ahmed',\n",
       "       'Tanzim Hasan Sakib', 'Najmul Hossain Shanto'], dtype=object)"
      ]
     },
     "execution_count": 36,
     "metadata": {},
     "output_type": "execute_result"
    }
   ],
   "source": [
    "df2[df2['Team'] == 'Bangladesh']['Bowler'].unique() # Good"
   ]
  },
  {
   "cell_type": "code",
   "execution_count": 37,
   "id": "76ac2d33-4906-4c11-aeda-3a16c280333b",
   "metadata": {},
   "outputs": [
    {
     "data": {
      "text/plain": [
       "array(['Lahiru Kumara', 'Dilshan Madushanka', 'Dasun Shanaka',\n",
       "       'Dhananjaya de Silva', 'Matheesha Pathirana', 'Dunith Wellalage',\n",
       "       'Dimuth Karunaratne', 'Maheesh Theekshana', 'Dushan Hemantha',\n",
       "       'Angelo Mathews', 'Dushmantha Chameera', 'Charith Asalanka',\n",
       "       'Chamika Karunaratne', 'Kasun Rajitha'], dtype=object)"
      ]
     },
     "execution_count": 37,
     "metadata": {},
     "output_type": "execute_result"
    }
   ],
   "source": [
    "df2[df2['Team'] == 'Sri Lanka']['Bowler'].unique() # Good"
   ]
  },
  {
   "cell_type": "code",
   "execution_count": 38,
   "id": "d8243289-bbe7-45cb-bfc7-82e890a12ac8",
   "metadata": {},
   "outputs": [
    {
     "data": {
      "text/plain": [
       "array(['Jasprit Bumrah', 'Mohammed Siraj', 'Hardik Pandya',\n",
       "       'Ravichandran Ashwin', 'Kuldeep Yadav', 'Ravindra Jadeja',\n",
       "       'Shardul Thakur', 'Virat Kohli', 'Mohammed Shami', 'Shubman Gill',\n",
       "       'Suryakumar Yadav', 'Rohit Sharma'], dtype=object)"
      ]
     },
     "execution_count": 38,
     "metadata": {},
     "output_type": "execute_result"
    }
   ],
   "source": [
    "df2[df2['Team'] == 'India']['Bowler'].unique() # Good"
   ]
  },
  {
   "cell_type": "code",
   "execution_count": 39,
   "id": "99697e48-2880-4ef9-95e7-b1a19587ebdc",
   "metadata": {},
   "outputs": [
    {
     "data": {
      "text/plain": [
       "array(['Shaheen Afridi', 'Hasan Ali', 'Mohammad Nawaz', 'Haris Rauf',\n",
       "       'Shadab Khan', 'Iftikhar Ahmed', 'Usama Mir', 'Mohammad Wasim Jr',\n",
       "       'Agha Salman'], dtype=object)"
      ]
     },
     "execution_count": 39,
     "metadata": {},
     "output_type": "execute_result"
    }
   ],
   "source": [
    "df2[df2['Team'] == 'Pakistan']['Bowler'].unique() # Good"
   ]
  },
  {
   "cell_type": "code",
   "execution_count": 41,
   "id": "9dbc28d2-43ea-4d05-9f82-27254acc5ba5",
   "metadata": {},
   "outputs": [
    {
     "data": {
      "text/plain": [
       "array(['Mitchell Starc', 'Josh Hazlewood', 'Glenn Maxwell', 'Pat Cummins',\n",
       "       'Adam Zampa', 'Mitchell Marsh', 'Marcus Stoinis', 'Travis Head',\n",
       "       'Sean Abbott', 'Cameron Green'], dtype=object)"
      ]
     },
     "execution_count": 41,
     "metadata": {},
     "output_type": "execute_result"
    }
   ],
   "source": [
    "df2[df2['Team'] == 'Australia']['Bowler'].unique() # Good"
   ]
  },
  {
   "cell_type": "code",
   "execution_count": 42,
   "id": "1e7d6322-1ee9-479b-ad45-eeb53cc2762c",
   "metadata": {},
   "outputs": [
    {
     "data": {
      "text/plain": [
       "array(['Chris Woakes', 'Reece Topley', 'Sam Curran', 'Adil Rashid',\n",
       "       'Mark Wood', 'Liam Livingstone', 'Joe Root', 'David Willey',\n",
       "       'Gus Atkinson', 'Moeen Ali'], dtype=object)"
      ]
     },
     "execution_count": 42,
     "metadata": {},
     "output_type": "execute_result"
    }
   ],
   "source": [
    "df2[df2['Team'] == 'England']['Bowler'].unique() # Good"
   ]
  },
  {
   "cell_type": "code",
   "execution_count": 43,
   "id": "829b6eb8-3f23-4f69-b4f4-a28dc832356c",
   "metadata": {},
   "outputs": [
    {
     "data": {
      "text/plain": [
       "array(['Lungi Ngidi', 'Marco Jansen', 'Kagiso Rabada', 'Gerald Coetzee',\n",
       "       'Keshav Maharaj', 'Aiden Markram', 'Tabraiz Shamsi', 'Phehlukwayo',\n",
       "       'Lizaad Williams'], dtype=object)"
      ]
     },
     "execution_count": 43,
     "metadata": {},
     "output_type": "execute_result"
    }
   ],
   "source": [
    "df2[df2['Team'] == 'South Africa']['Bowler'].unique() # Good"
   ]
  },
  {
   "cell_type": "code",
   "execution_count": 44,
   "id": "4f0d9dbb-c0c7-4b38-9a09-2ba0437912e0",
   "metadata": {},
   "outputs": [
    {
     "data": {
      "text/plain": [
       "array(['Mujeeb Ur Rahman', 'Fazalhaq Farooqi', 'Naveen-ul-Haq',\n",
       "       'Mohammad Nabi', 'Rashid Khan', 'Azmatullah Omarzai', 'Noor Ahmad',\n",
       "       'Rahmat Shah'], dtype=object)"
      ]
     },
     "execution_count": 44,
     "metadata": {},
     "output_type": "execute_result"
    }
   ],
   "source": [
    "df2[df2['Team'] == 'Afghanistan']['Bowler'].unique() # Good"
   ]
  },
  {
   "cell_type": "code",
   "execution_count": 40,
   "id": "27569f2a-14f6-4ad4-b31d-c51af3adbc28",
   "metadata": {},
   "outputs": [
    {
     "data": {
      "text/plain": [
       "array(['New Zealand', 'Netherlands', 'Bangladesh', 'Sri Lanka', 'India',\n",
       "       'Pakistan', 'Australia', 'England', 'South Africa', 'Afghanistan'],\n",
       "      dtype=object)"
      ]
     },
     "execution_count": 40,
     "metadata": {},
     "output_type": "execute_result"
    }
   ],
   "source": [
    "df2['Team'].unique()"
   ]
  },
  {
   "cell_type": "code",
   "execution_count": 50,
   "id": "5735d83c-5454-4f18-8e4e-96e9a2df11eb",
   "metadata": {},
   "outputs": [],
   "source": [
    "df.to_csv(\"F:\\Projects\\CWC2023\\ICC_CWC_2023_Data_Analysis\\Data/final_batting_df.csv\",index=False)"
   ]
  },
  {
   "cell_type": "code",
   "execution_count": null,
   "id": "1586ce43-4c5c-4326-a769-efd18f47b2fc",
   "metadata": {},
   "outputs": [],
   "source": []
  }
 ],
 "metadata": {
  "kernelspec": {
   "display_name": "Python 3 (ipykernel)",
   "language": "python",
   "name": "python3"
  },
  "language_info": {
   "codemirror_mode": {
    "name": "ipython",
    "version": 3
   },
   "file_extension": ".py",
   "mimetype": "text/x-python",
   "name": "python",
   "nbconvert_exporter": "python",
   "pygments_lexer": "ipython3",
   "version": "3.9.0"
  }
 },
 "nbformat": 4,
 "nbformat_minor": 5
}
