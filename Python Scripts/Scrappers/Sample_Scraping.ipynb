{
 "cells": [
  {
   "cell_type": "markdown",
   "id": "5b8f01ed-0c19-4bbe-933b-16c2730c2e84",
   "metadata": {},
   "source": [
    "# Web Scraping Through Pandas"
   ]
  },
  {
   "cell_type": "markdown",
   "id": "70c375c5-5efd-43be-9dc6-8c68b4b58240",
   "metadata": {},
   "source": [
    "## 1. Basics of HTML wrt Web Scraping"
   ]
  },
  {
   "cell_type": "markdown",
   "id": "e696b7a5-22d3-46bf-8240-4af526539f58",
   "metadata": {},
   "source": [
    "- Why HTML \n",
    "- How to Access HTML Data\n",
    "- Common Elements & Tags used in Scraping\n",
    "- Elements, Attributes,Div and Classes"
   ]
  },
  {
   "cell_type": "markdown",
   "id": "29d3e81f-40a4-4d8d-8b8e-8e711230402b",
   "metadata": {},
   "source": [
    "## 2. Required Libraries"
   ]
  },
  {
   "cell_type": "markdown",
   "id": "da47a839-2cd2-41e5-af28-cef1efe916c4",
   "metadata": {},
   "source": [
    "- Pandas\n",
    "- requests\n",
    "- BeautifulSoup"
   ]
  },
  {
   "cell_type": "markdown",
   "id": "228fbde5-9b58-4240-91c2-cff3135604e8",
   "metadata": {},
   "source": [
    "## 3. Authentication,Soup and HTML Parsing"
   ]
  },
  {
   "cell_type": "markdown",
   "id": "a0a19dc4-5f37-499a-a8ed-9e94286e86ac",
   "metadata": {},
   "source": [
    "- HTTP Status Codes\n",
    "- Ethical Policies\n",
    "- Bytes to HTML\n",
    "- prettify"
   ]
  },
  {
   "cell_type": "markdown",
   "id": "3d547f13-edd4-4bb3-b300-57cacefe0bca",
   "metadata": {},
   "source": [
    "## 4. Finding Data"
   ]
  },
  {
   "cell_type": "markdown",
   "id": "3eeb5bec-1ffb-494b-8d73-e356c08a7a35",
   "metadata": {},
   "source": [
    "- Find & Findall\n",
    "- Get\n",
    "- Text\n",
    "- List\n",
    "- HyperLinks"
   ]
  },
  {
   "cell_type": "markdown",
   "id": "a84998fc-402e-4533-9dd0-380228f56d4f",
   "metadata": {},
   "source": [
    "## 5. Cleaning Data using Python "
   ]
  },
  {
   "cell_type": "markdown",
   "id": "86f9b945-e68a-4b13-bea4-265aff62b1d4",
   "metadata": {},
   "source": [
    "- Python Data Structures\n",
    "- Strings, Lists, Dictionaries\n",
    "- Pandas operations"
   ]
  },
  {
   "cell_type": "markdown",
   "id": "6612d505-63ae-44c3-a397-ff336d6f09d5",
   "metadata": {},
   "source": [
    "## 6. Export to df"
   ]
  },
  {
   "cell_type": "markdown",
   "id": "cb946184-65b4-4c53-aef5-bf9170c4fa4a",
   "metadata": {},
   "source": [
    "## Practice"
   ]
  },
  {
   "cell_type": "code",
   "execution_count": 3,
   "id": "61ef47c7-013c-4641-8e34-ea7508c72ee8",
   "metadata": {},
   "outputs": [],
   "source": [
    "url = 'https://www.cricbuzz.com/cricket-match-squads/89763/mi-vs-dc-20th-match-indian-premier-league-2024' # Players Names"
   ]
  },
  {
   "cell_type": "code",
   "execution_count": 4,
   "id": "47ddf7ce-4f20-439c-b110-e96cdb8527a5",
   "metadata": {},
   "outputs": [],
   "source": [
    "### Libraries"
   ]
  },
  {
   "cell_type": "code",
   "execution_count": 5,
   "id": "a61ce4db-f2af-46c3-873b-2b6a777aec52",
   "metadata": {},
   "outputs": [],
   "source": [
    "import pandas as pd\n",
    "import requests\n",
    "from bs4 import BeautifulSoup# from math import sqrt"
   ]
  },
  {
   "cell_type": "code",
   "execution_count": 6,
   "id": "56481f87-5418-43fa-aa54-a9b72b81c78d",
   "metadata": {},
   "outputs": [],
   "source": [
    "### Sending Request to webpage"
   ]
  },
  {
   "cell_type": "code",
   "execution_count": null,
   "id": "0e2bd013-a514-4780-a8ea-017e249f6f11",
   "metadata": {},
   "outputs": [],
   "source": []
  },
  {
   "cell_type": "code",
   "execution_count": 7,
   "id": "526d9baa-d869-4c34-bc01-4adb51d7e0b0",
   "metadata": {},
   "outputs": [],
   "source": [
    "request = requests.get(url)"
   ]
  },
  {
   "cell_type": "code",
   "execution_count": 8,
   "id": "c59ce6d6-629b-44a8-83a6-a5f6aa566c44",
   "metadata": {},
   "outputs": [
    {
     "data": {
      "text/plain": [
       "<Response [200]>"
      ]
     },
     "execution_count": 8,
     "metadata": {},
     "output_type": "execute_result"
    }
   ],
   "source": [
    "request"
   ]
  },
  {
   "cell_type": "code",
   "execution_count": 9,
   "id": "96012ccb-b85b-49a1-9767-277f98aff3df",
   "metadata": {},
   "outputs": [
    {
     "data": {
      "text/plain": [
       "bytes"
      ]
     },
     "execution_count": 9,
     "metadata": {},
     "output_type": "execute_result"
    }
   ],
   "source": [
    "type(request.content)"
   ]
  },
  {
   "cell_type": "code",
   "execution_count": 10,
   "id": "08fc19f4-a768-488e-af76-176fb77c7bd3",
   "metadata": {},
   "outputs": [
    {
     "data": {
      "text/plain": [
       "200"
      ]
     },
     "execution_count": 10,
     "metadata": {},
     "output_type": "execute_result"
    }
   ],
   "source": [
    "request.status_code # 200 Means ready to go"
   ]
  },
  {
   "cell_type": "code",
   "execution_count": 11,
   "id": "727455a5-3c55-4d53-9900-a99f9133feec",
   "metadata": {},
   "outputs": [],
   "source": [
    "soup = BeautifulSoup(request.content,'html.parser')"
   ]
  },
  {
   "cell_type": "code",
   "execution_count": 12,
   "id": "f9a65a67-33b3-4454-bc17-741c8fbbff16",
   "metadata": {},
   "outputs": [],
   "source": [
    "MI_players = soup.find_all(class_='cb-player-name-left')\n",
    "DC_players = soup.find_all(class_='cb-player-name-right')"
   ]
  },
  {
   "cell_type": "code",
   "execution_count": 13,
   "id": "394a5713-1c9b-499d-96f0-6ea25c1d69e4",
   "metadata": {},
   "outputs": [
    {
     "data": {
      "text/plain": [
       "[<div class=\"cb-player-name-left\"> <div> Rohit Sharma <br/> <span class=\"cb-font-12 text-gray\">Batter</span> </div> </div>,\n",
       " <div class=\"cb-player-name-left\"> <div> Ishan Kishan (WK) <br/> <span class=\"cb-font-12 text-gray\">WK-Batter</span> </div> </div>,\n",
       " <div class=\"cb-player-name-left\"> <div> Suryakumar Yadav <span class=\"cb-rank-diff-up cb-ico cb-plr-in-out\"></span> <br/> <span class=\"cb-font-12 text-gray\">Batter</span> </div> </div>,\n",
       " <div class=\"cb-player-name-left\"> <div> Tilak Varma <br/> <span class=\"cb-font-12 text-gray\">Batter</span> </div> </div>,\n",
       " <div class=\"cb-player-name-left\"> <div> Hardik Pandya (C) <br/> <span class=\"cb-font-12 text-gray\">Batting Allrounder</span> </div> </div>,\n",
       " <div class=\"cb-player-name-left\"> <div> Tim David <br/> <span class=\"cb-font-12 text-gray\">Batter</span> </div> </div>,\n",
       " <div class=\"cb-player-name-left\"> <div> Mohammad Nabi <span class=\"cb-rank-diff-up cb-ico cb-plr-in-out\"></span> <br/> <span class=\"cb-font-12 text-gray\">Bowling Allrounder</span> </div> </div>,\n",
       " <div class=\"cb-player-name-left\"> <div> Romario Shepherd <span class=\"cb-rank-diff-up cb-ico cb-plr-in-out\"></span> <br/> <span class=\"cb-font-12 text-gray\">Bowler</span> </div> </div>,\n",
       " <div class=\"cb-player-name-left\"> <div> Piyush Chawla <br/> <span class=\"cb-font-12 text-gray\">Bowler</span> </div> </div>,\n",
       " <div class=\"cb-player-name-left\"> <div> Gerald Coetzee <br/> <span class=\"cb-font-12 text-gray\">Bowler</span> </div> </div>,\n",
       " <div class=\"cb-player-name-left\"> <div> Jasprit Bumrah <br/> <span class=\"cb-font-12 text-gray\">Bowler</span> </div> </div>,\n",
       " <div class=\"cb-player-name-left\"> <div> Akash Madhwal <span class=\"cb-rank-diff-down cb-ico cb-plr-in-out\"></span> <br/> <span class=\"cb-font-12 text-gray\">Bowler</span> </div> </div>,\n",
       " <div class=\"cb-player-name-left\"> <div> Kwena Maphaka <span class=\"cb-rank-diff-down cb-ico cb-plr-in-out\"></span> <br/> <span class=\"cb-font-12 text-gray\">Bowler</span> </div> </div>,\n",
       " <div class=\"cb-player-name-left\"> <div> Naman Dhir <span class=\"cb-rank-diff-down cb-ico cb-plr-in-out\"></span> <br/> <span class=\"cb-font-12 text-gray\">Batter</span> </div> </div>,\n",
       " <div class=\"cb-player-name-left\"> <div> Nehal Wadhera <br/> <span class=\"cb-font-12 text-gray\">Batter</span> </div> </div>,\n",
       " <div class=\"cb-player-name-left\"> <div> Shams Mulani <br/> <span class=\"cb-font-12 text-gray\">Batting Allrounder</span> </div> </div>,\n",
       " <div class=\"cb-player-name-left\"> <div> Dewald Brevis <span class=\"cb-rank-diff-down cb-ico cb-plr-in-out\"></span> <br/> <span class=\"cb-font-12 text-gray\">Batter</span> </div> </div>,\n",
       " <div class=\"cb-player-name-left\"> <div> Nuwan Thushara <br/> <span class=\"cb-font-12 text-gray\">Bowler</span> </div> </div>,\n",
       " <div class=\"cb-player-name-left\"> <div> Vishnu Vinod <br/> <span class=\"cb-font-12 text-gray\">WK-Batter</span> </div> </div>,\n",
       " <div class=\"cb-player-name-left\"> <div> Shreyas Gopal <br/> <span class=\"cb-font-12 text-gray\">Bowling Allrounder</span> </div> </div>,\n",
       " <div class=\"cb-player-name-left\"> <div> Luke Wood <br/> <span class=\"cb-font-12 text-gray\">Bowler</span> </div> </div>,\n",
       " <div class=\"cb-player-name-left\"> <div> Arjun Tendulkar <br/> <span class=\"cb-font-12 text-gray\">Bowling Allrounder</span> </div> </div>,\n",
       " <div class=\"cb-player-name-left\"> <div> Kumar Kartikeya <br/> <span class=\"cb-font-12 text-gray\">Bowling Allrounder</span> </div> </div>,\n",
       " <div class=\"cb-player-name-left\"> <div> Shivalik Sharma <br/> <span class=\"cb-font-12 text-gray\">Batter</span> </div> </div>,\n",
       " <div class=\"cb-player-name-left\"> <div> Anshul Kamboj <br/> <span class=\"cb-font-12 text-gray\">Bowler</span> </div> </div>,\n",
       " <div class=\"cb-player-name-left\"> <div> Mark Boucher <br/> <span class=\"cb-font-12 text-gray\">Head coach</span> </div> </div>,\n",
       " <div class=\"cb-player-name-left\"> <div> Kieron Pollard <br/> <span class=\"cb-font-12 text-gray\">Batting coach</span> </div> </div>,\n",
       " <div class=\"cb-player-name-left\"> <div> James Pamment <br/> <span class=\"cb-font-12 text-gray\">Fielding coach</span> </div> </div>,\n",
       " <div class=\"cb-player-name-left\"> <div> Sachin Tendulkar <br/> <span class=\"cb-font-12 text-gray\">ICON</span> </div> </div>,\n",
       " <div class=\"cb-player-name-left\"> <div> Lasith Malinga <br/> <span class=\"cb-font-12 text-gray\">Bowling Coach</span> </div> </div>,\n",
       " <div class=\"cb-player-name-left\"> <div> Jagadeesh Arunkumar <br/> <span class=\"cb-font-12 text-gray\">Assistant Batting Coach</span> </div> </div>]"
      ]
     },
     "execution_count": 13,
     "metadata": {},
     "output_type": "execute_result"
    }
   ],
   "source": [
    "MI_players"
   ]
  },
  {
   "cell_type": "code",
   "execution_count": 14,
   "id": "363f743c-cf34-4c6c-b29b-e859ebf6ce44",
   "metadata": {},
   "outputs": [],
   "source": [
    "Players = []\n",
    "Role = []"
   ]
  },
  {
   "cell_type": "code",
   "execution_count": 15,
   "id": "ba233b60-6083-4283-860c-2119715f388a",
   "metadata": {},
   "outputs": [],
   "source": [
    "def extract_player_infor(team):\n",
    "    for i in team:\n",
    "        player = i.text.strip().split(' ') # it is gng to become list after split\n",
    "        sep =player.index('') # space index as junction \n",
    "        player_name,role = \" \".join(player[:sep]).strip(),\" \".join(player[sep:]).strip()\n",
    "        print(player_name,role)\n",
    "        Players.append(player_name)\n",
    "        Role.append(role)     "
   ]
  },
  {
   "cell_type": "code",
   "execution_count": 16,
   "id": "94aab45b-2e41-4581-801e-7382d7a6ff33",
   "metadata": {
    "scrolled": true
   },
   "outputs": [
    {
     "name": "stdout",
     "output_type": "stream",
     "text": [
      "David Warner Batter\n",
      "Prithvi Shaw Batter\n",
      "Abishek Porel WK-Batter\n",
      "Rishabh Pant (C & WK) WK-Batter\n",
      "Tristan Stubbs WK-Batter\n",
      "Axar Patel Bowling Allrounder\n",
      "Lalit Yadav Batting Allrounder\n",
      "Jhye Richardson Bowler\n",
      "Anrich Nortje Bowler\n",
      "Ishant Sharma Bowler\n",
      "Khaleel Ahmed Bowler\n",
      "Kumar Kushagra WK-Batter\n",
      "Yash Dhull Batter\n",
      "Jake Fraser-McGurk Batter\n",
      "Sumit Kumar Bowling Allrounder\n",
      "Praveen Dubey Bowler\n",
      "Mukesh Kumar Bowler\n",
      "Kuldeep Yadav Bowler\n",
      "Ricky Bhui Batter\n",
      "Shai Hope WK-Batter\n",
      "Vicky Ostwal Bowler\n",
      "Swastik Chikara Batting Allrounder\n",
      "Mitchell Marsh Batting Allrounder\n",
      "Rasikh Dar Salam Bowler\n",
      "Ricky Ponting Head coach\n",
      "Biju George Fielding coach\n",
      "Pravin Amre Assistant coach\n",
      "Sourav Ganguly Director of Cricket\n",
      "James Hopes Fast Bowling coach\n",
      "Gnaneswara Rao Assistant Fielding coach\n"
     ]
    }
   ],
   "source": [
    "extract_player_infor(DC_players)"
   ]
  },
  {
   "cell_type": "code",
   "execution_count": 17,
   "id": "5b039ecd-93fe-436e-9751-b6b0492ddf51",
   "metadata": {},
   "outputs": [
    {
     "data": {
      "text/plain": [
       "['David Warner',\n",
       " 'Prithvi Shaw',\n",
       " 'Abishek Porel',\n",
       " 'Rishabh Pant (C & WK)',\n",
       " 'Tristan Stubbs']"
      ]
     },
     "execution_count": 17,
     "metadata": {},
     "output_type": "execute_result"
    }
   ],
   "source": [
    "Players[:5]"
   ]
  },
  {
   "cell_type": "code",
   "execution_count": 18,
   "id": "de3e3c04-0066-4d48-acab-a390fbdbb9bd",
   "metadata": {},
   "outputs": [
    {
     "name": "stdout",
     "output_type": "stream",
     "text": [
      "Rohit Sharma Batter\n",
      "Ishan Kishan (WK) WK-Batter\n",
      "Suryakumar Yadav Batter\n",
      "Tilak Varma Batter\n",
      "Hardik Pandya (C) Batting Allrounder\n",
      "Tim David Batter\n",
      "Mohammad Nabi Bowling Allrounder\n",
      "Romario Shepherd Bowler\n",
      "Piyush Chawla Bowler\n",
      "Gerald Coetzee Bowler\n",
      "Jasprit Bumrah Bowler\n",
      "Akash Madhwal Bowler\n",
      "Kwena Maphaka Bowler\n",
      "Naman Dhir Batter\n",
      "Nehal Wadhera Batter\n",
      "Shams Mulani Batting Allrounder\n",
      "Dewald Brevis Batter\n",
      "Nuwan Thushara Bowler\n",
      "Vishnu Vinod WK-Batter\n",
      "Shreyas Gopal Bowling Allrounder\n",
      "Luke Wood Bowler\n",
      "Arjun Tendulkar Bowling Allrounder\n",
      "Kumar Kartikeya Bowling Allrounder\n",
      "Shivalik Sharma Batter\n",
      "Anshul Kamboj Bowler\n",
      "Mark Boucher Head coach\n",
      "Kieron Pollard Batting coach\n",
      "James Pamment Fielding coach\n",
      "Sachin Tendulkar ICON\n",
      "Lasith Malinga Bowling Coach\n",
      "Jagadeesh Arunkumar Assistant Batting Coach\n"
     ]
    }
   ],
   "source": [
    "extract_player_infor(MI_players)"
   ]
  },
  {
   "cell_type": "code",
   "execution_count": 19,
   "id": "f22738ba-3f7b-4448-8f05-485b64b7288d",
   "metadata": {},
   "outputs": [
    {
     "data": {
      "text/plain": [
       "['Kieron Pollard',\n",
       " 'James Pamment',\n",
       " 'Sachin Tendulkar',\n",
       " 'Lasith Malinga',\n",
       " 'Jagadeesh Arunkumar']"
      ]
     },
     "execution_count": 19,
     "metadata": {},
     "output_type": "execute_result"
    }
   ],
   "source": [
    "Players[len(Players)-5:]"
   ]
  },
  {
   "cell_type": "markdown",
   "id": "bdd9807d-7909-4fe4-b8a7-1014d6fd2057",
   "metadata": {},
   "source": [
    "### url extraction"
   ]
  },
  {
   "cell_type": "code",
   "execution_count": 20,
   "id": "358367b0-afde-41c0-a02e-29f3e11097d8",
   "metadata": {},
   "outputs": [],
   "source": [
    "player_urls = []\n",
    "common_url = 'https://www.cricbuzz.com'\n",
    "def player_info_extraction(team):\n",
    "    for i in team:\n",
    "        player_url = i.get('href')\n",
    "        if player_url is None :\n",
    "            new_url = common_url+'NO URL'\n",
    "        else:\n",
    "            new_url = common_url+player_url\n",
    "        player_urls.append(new_url)"
   ]
  },
  {
   "cell_type": "code",
   "execution_count": 22,
   "id": "d087a560-49d5-4689-959f-4bf1d61704e7",
   "metadata": {},
   "outputs": [],
   "source": [
    "Full_info = soup.find_all(class_ = 'cb-col cb-col-100 pad10 cb-player-card-left')\n",
    "Full_info\n",
    "player_info_extraction(Full_info)"
   ]
  },
  {
   "cell_type": "code",
   "execution_count": 23,
   "id": "be622719-f20b-4d7a-9f9f-6d8693803643",
   "metadata": {},
   "outputs": [],
   "source": [
    "Full_info = soup.find_all(class_ = 'cb-col cb-col-100 pad10 cb-player-card-right')\n",
    "player_info_extraction(Full_info)"
   ]
  },
  {
   "cell_type": "code",
   "execution_count": 24,
   "id": "308ed797-8b2f-4283-b3ba-fe85148a2269",
   "metadata": {},
   "outputs": [
    {
     "data": {
      "text/plain": [
       "(61, 61, 50)"
      ]
     },
     "execution_count": 24,
     "metadata": {},
     "output_type": "execute_result"
    }
   ],
   "source": [
    "len(Players),len(Role),len(player_urls)"
   ]
  },
  {
   "cell_type": "code",
   "execution_count": 25,
   "id": "dacdfbab-90e5-4855-a344-a8afdc041acc",
   "metadata": {},
   "outputs": [],
   "source": [
    "df = pd.DataFrame(\n",
    "    {'Player' : Players,\n",
    "    'Role'   : Role})"
   ]
  },
  {
   "cell_type": "code",
   "execution_count": 26,
   "id": "6bf481cc-5c2c-44ed-b583-dbabf0d9fcf6",
   "metadata": {},
   "outputs": [],
   "source": [
    "df.to_csv('F:\\Freelance\\MI_DC_Players.csv')"
   ]
  },
  {
   "cell_type": "code",
   "execution_count": null,
   "id": "52249d4b-9c6f-41e7-9f88-619dea19618c",
   "metadata": {},
   "outputs": [],
   "source": []
  }
 ],
 "metadata": {
  "kernelspec": {
   "display_name": "Python 3 (ipykernel)",
   "language": "python",
   "name": "python3"
  },
  "language_info": {
   "codemirror_mode": {
    "name": "ipython",
    "version": 3
   },
   "file_extension": ".py",
   "mimetype": "text/x-python",
   "name": "python",
   "nbconvert_exporter": "python",
   "pygments_lexer": "ipython3",
   "version": "3.9.0"
  }
 },
 "nbformat": 4,
 "nbformat_minor": 5
}
